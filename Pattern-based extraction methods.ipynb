{
 "cells": [
  {
   "cell_type": "code",
   "execution_count": 16,
   "metadata": {},
   "outputs": [],
   "source": [
    "#extract.en.amounts\n",
    "import lexnlp.extract.en.amounts\n",
    "text = \"\"\"\n",
    "he standard Lorem Ipsum passage, used since the 1500s\n",
    "\"Lorem ipsum dolor sit amet, consectetur adipiscing elit, sed do eiusmod tempor incididunt ut labore et dolore magna aliqua. Ut enim ad minim veniam, quis nostrud exercitation ullamco laboris nisi ut aliquip ex ea commodo consequat. Duis aute irure dolor in reprehenderit in voluptate velit esse cillum dolore eu fugiat nulla pariatur. Excepteur sint occaecat cupidatat non proident, sunt in culpa qui officia deserunt mollit anim id est laborum.\"\n",
    "\n",
    "Section 1.10.32 of \"de Finibus Bonorum et Malorum\", written by Cicero in 45 BC\n",
    "\"Sed ut perspiciatis unde omnis iste natus error sit voluptatem accusantium doloremque laudantium, totam rem aperiam, eaque ipsa quae ab illo inventore veritatis et quasi architecto beatae vitae dicta sunt explicabo. Nemo enim ipsam voluptatem quia voluptas sit aspernatur aut odit aut fugit, sed quia consequuntur magni dolores eos qui ratione voluptatem sequi nesciunt. Neque porro quisquam est, qui dolorem ipsum quia dolor sit amet, consectetur, adipisci velit, sed quia non numquam eius modi tempora incidunt ut labore et dolore magnam aliquam quaerat voluptatem. Ut enim ad minima veniam, quis nostrum exercitationem ullam corporis suscipit laboriosam, nisi ut aliquid ex ea commodi consequatur? Quis autem vel eum iure reprehenderit qui in ea voluptate velit esse quam nihil molestiae consequatur, vel illum qui dolorem eum fugiat quo voluptas nulla pariatur?\"\n",
    "\n",
    "1914 translation by H. Rackham\n",
    "\"But I must explain to you how all this mistaken idea of denouncing pleasure and praising pain was born and I will give you a complete account of the system, and expound the actual teachings of the great explorer of the truth, the master-builder of human happiness. No one rejects, dislikes, or avoids pleasure itself, because it is pleasure, but because those who do not know how to pursue pleasure rationally encounter consequences that are extremely painful. Nor again is there anyone who loves or pursues or desires to obtain pain of itself, because it is pain, but because occasionally circumstances occur in which toil and pain can procure him some great pleasure. To take a trivial example, which of us ever undertakes laborious physical exercise, except to obtain some advantage from it? But who has any right to find fault with a man who chooses to enjoy a pleasure that has no annoying consequences, or one who avoids a pain that produces no resultant pleasure?\"\n",
    "\n",
    "Section 1.10.33 of \"de Finibus Bonorum et Malorum\", written by Cicero in 45 BC\n",
    "\"At vero eos et accusamus et iusto odio dignissimos ducimus qui blanditiis praesentium voluptatum deleniti atque corrupti quos dolores et quas molestias excepturi sint occaecati cupiditate non provident, similique sunt in culpa qui officia deserunt mollitia animi, id est laborum et dolorum fuga. Et harum quidem rerum facilis est et expedita distinctio. Nam libero tempore, cum soluta nobis est eligendi optio cumque nihil impedit quo minus id quod maxime placeat facere possimus, omnis voluptas assumenda est, omnis dolor repellendus. Temporibus autem quibusdam et aut officiis debitis aut rerum necessitatibus saepe eveniet ut et voluptates repudiandae sint et molestiae non recusandae. Itaque earum rerum hic tenetur a sapiente delectus, ut aut reiciendis voluptatibus maiores alias consequatur aut perferendis doloribus asperiores repellat.\"\n",
    "\n",
    "1914 translation by H. Rackham\"\"\"\n",
    "amount =list(lexnlp.extract.en.amounts.get_amounts(text))"
   ]
  },
  {
   "cell_type": "code",
   "execution_count": 17,
   "metadata": {},
   "outputs": [
    {
     "data": {
      "text/plain": [
       "[45.0, 1914.0, 1, 1, 45.0, 1914.0]"
      ]
     },
     "execution_count": 17,
     "metadata": {},
     "output_type": "execute_result"
    }
   ],
   "source": [
    "amount"
   ]
  },
  {
   "cell_type": "code",
   "execution_count": 13,
   "metadata": {},
   "outputs": [],
   "source": [
    "import lexnlp.extract.en.citations"
   ]
  },
  {
   "cell_type": "code",
   "execution_count": 18,
   "metadata": {},
   "outputs": [],
   "source": [
    "citations = list(lexnlp.extract.en.citations.get_citations(text))"
   ]
  },
  {
   "cell_type": "code",
   "execution_count": 19,
   "metadata": {},
   "outputs": [
    {
     "data": {
      "text/plain": [
       "[]"
      ]
     },
     "execution_count": 19,
     "metadata": {},
     "output_type": "execute_result"
    }
   ],
   "source": [
    "citations"
   ]
  },
  {
   "cell_type": "code",
   "execution_count": 21,
   "metadata": {},
   "outputs": [
    {
     "name": "stdout",
     "output_type": "stream",
     "text": [
      "[('upon the occurrence', 'Immediately', '')]\n"
     ]
    }
   ],
   "source": [
    "#lexnlp.extract.en.conditions\n",
    "import lexnlp.extract.en.conditions\n",
    "text = \"Immediately upon the occurrence of a Change in Control of the Company or the Bank, the Employee shall be paid $125,000.00.\"\n",
    "\n",
    "\n",
    "print(list(lexnlp.extract.en.conditions.get_conditions(text)))"
   ]
  },
  {
   "cell_type": "code",
   "execution_count": 23,
   "metadata": {},
   "outputs": [
    {
     "name": "stdout",
     "output_type": "stream",
     "text": [
      "[('unless', 'will occur', '')]\n"
     ]
    }
   ],
   "source": [
    "text =  \"\"\"will occur unless,Section 1.10.33 of \"de Finibus Bonorum et Malorum\", written by Cicero in 45 BC\"\"\"\n",
    "print(list(lexnlp.extract.en.conditions.get_conditions(text)))"
   ]
  },
  {
   "cell_type": "code",
   "execution_count": 26,
   "metadata": {},
   "outputs": [],
   "source": [
    "import regex as re\n",
    "my_condition_phrases = lexnlp.extract.en.conditions.CONDITION_PHRASES\n",
    "my_condition_phrases.append(\"predicated upon\")\n",
    "CONDITION_PATTERN = lexnlp.extract.en.conditions.create_condition_pattern(lexnlp.extract.en.conditions.CONDITION_PATTERN_TEMPLATE, my_condition_phrases)\n",
    "lexnlp.extract.en.conditions.RE_CONDITION = re.compile(CONDITION_PATTERN, re.IGNORECASE | re.UNICODE | re.DOTALL | re.MULTILINE | re.VERBOSE)"
   ]
  },
  {
   "cell_type": "code",
   "execution_count": 29,
   "metadata": {},
   "outputs": [
    {
     "name": "stdout",
     "output_type": "stream",
     "text": [
      "[('predicated upon', 'This will occur', '')]\n"
     ]
    }
   ],
   "source": [
    "text = \"This will occur predicated upon something else.\"\n",
    "print(list(lexnlp.extract.en.conditions.get_conditions(text)))"
   ]
  },
  {
   "cell_type": "code",
   "execution_count": 45,
   "metadata": {},
   "outputs": [
    {
     "data": {
      "text/plain": [
       "[('at most', 'might happen', '')]"
      ]
     },
     "execution_count": 45,
     "metadata": {},
     "output_type": "execute_result"
    }
   ],
   "source": [
    "#lexnlp.extract.en.constraints\n",
    "constraints= list(lexnlp.extract.en.constraints.get_constraints(\"Might happen at most several times.\"))\n",
    "constraints"
   ]
  },
  {
   "cell_type": "code",
   "execution_count": 47,
   "metadata": {},
   "outputs": [
    {
     "name": "stdout",
     "output_type": "stream",
     "text": [
      "[('greater', 'the rate should be', ''), ('less than', 'or', '')]\n"
     ]
    }
   ],
   "source": [
    "print(list(lexnlp.extract.en.constraints.get_constraints(\"The rate should be greater or less than 90 bps.\")))"
   ]
  },
  {
   "cell_type": "code",
   "execution_count": 65,
   "metadata": {},
   "outputs": [],
   "source": [
    "import lexnlp.extract.en.courts\n",
    "import pandas as pd\n",
    "text = \"To be heard in either E.D. Va. or S.D.N.Y.\"\n",
    "court_df = pd.read_csv(\"https://raw.githubusercontent.com/LexPredict/lexpredict-legal-dictionary/1.0.5/en/legal/us_courts.csv\")\n",
    "court_config_data = []\n",
    "for entity, alias in lexnlp.extract.en.courts.get_courts(text, court_config_data):\n",
    "    print(\"entity=\", entity)\n",
    "    print(\"alias=\", alias)"
   ]
  },
  {
   "cell_type": "code",
   "execution_count": 71,
   "metadata": {},
   "outputs": [
    {
     "data": {
      "text/html": [
       "<div>\n",
       "<style scoped>\n",
       "    .dataframe tbody tr th:only-of-type {\n",
       "        vertical-align: middle;\n",
       "    }\n",
       "\n",
       "    .dataframe tbody tr th {\n",
       "        vertical-align: top;\n",
       "    }\n",
       "\n",
       "    .dataframe thead th {\n",
       "        text-align: right;\n",
       "    }\n",
       "</style>\n",
       "<table border=\"1\" class=\"dataframe\">\n",
       "  <thead>\n",
       "    <tr style=\"text-align: right;\">\n",
       "      <th></th>\n",
       "      <th>0</th>\n",
       "    </tr>\n",
       "  </thead>\n",
       "  <tbody>\n",
       "    <tr>\n",
       "      <th>0</th>\n",
       "      <td>2035-03-01</td>\n",
       "    </tr>\n",
       "  </tbody>\n",
       "</table>\n",
       "</div>"
      ],
      "text/plain": [
       "            0\n",
       "0  2035-03-01"
      ]
     },
     "execution_count": 71,
     "metadata": {},
     "output_type": "execute_result"
    }
   ],
   "source": [
    "import lexnlp.extract.en.dates\n",
    "df = pd.DataFrame(lexnlp.extract.en.dates.get_dates(\"Agreement will be terminated on the 12nd day of March, 2035.\"))\n",
    "df"
   ]
  },
  {
   "cell_type": "code",
   "execution_count": 76,
   "metadata": {},
   "outputs": [
    {
     "name": "stdout",
     "output_type": "stream",
     "text": [
      "['Advance']\n"
     ]
    }
   ],
   "source": [
    "import lexnlp.extract.en.definitions\n",
    "text = \"“Advance” means a Revolving Credit Advance\"\n",
    "print(list(lexnlp.extract.en.definitions.get_definitions(text)))\n"
   ]
  },
  {
   "cell_type": "code",
   "execution_count": 77,
   "metadata": {},
   "outputs": [],
   "source": [
    " import lexnlp.extract.en.distances"
   ]
  },
  {
   "cell_type": "code",
   "execution_count": 80,
   "metadata": {},
   "outputs": [
    {
     "name": "stdout",
     "output_type": "stream",
     "text": [
      "[(80.0, 'kilometer')]\n"
     ]
    }
   ],
   "source": [
    "print(list(lexnlp.extract.en.distances.get_distances(\"80 KM away from office.\")))\n"
   ]
  },
  {
   "cell_type": "code",
   "execution_count": 83,
   "metadata": {},
   "outputs": [],
   "source": [
    "import regex as re\n",
    "import lexnlp.extract.en.amounts\n",
    "lexnlp.extract.en.distances.DISTANCE_TOKEN_MAP[\"yard\"] = \"yard\"\n",
    "lexnlp.extract.en.distances.DISTANCE_TOKEN_MAP[\"yards\"] = \"yard\"\n",
    "lexnlp.extract.en.distances.DISTANCE_SYMBOL_MAP[\"yd\"] = \"yard\"\n",
    "lexnlp.extract.en.distances.DISTANCE_PTN = r\"\"\"\n",
    "(({num_ptn})\\s*\n",
    "({distance_tokens}|{distance_symbols}))(?:\\W|$)\n",
    "\"\"\".format(\n",
    "    num_ptn=lexnlp.extract.en.amounts.NUM_PTN.replace('(?:\\\\W|$)', '').replace('(?<=\\\\W|^)', ''),\n",
    "    distance_symbols='|'.join(lexnlp.extract.en.distances.DISTANCE_SYMBOL_MAP),\n",
    "    distance_tokens='|'.join(lexnlp.extract.en.distances.DISTANCE_TOKEN_MAP)\n",
    ")"
   ]
  },
  {
   "cell_type": "code",
   "execution_count": 84,
   "metadata": {},
   "outputs": [],
   "source": [
    "lexnlp.extract.en.distances.DISTANCE_PTN_RE = re.compile(lexnlp.extract.en.distances.DISTANCE_PTN,\n",
    "re.IGNORECASE | re.MULTILINE | re.DOTALL | re.VERBOSE)"
   ]
  },
  {
   "cell_type": "code",
   "execution_count": 85,
   "metadata": {},
   "outputs": [
    {
     "name": "stdout",
     "output_type": "stream",
     "text": [
      "[(15, 'yard')]\n"
     ]
    }
   ],
   "source": [
    "print(list(lexnlp.extract.en.distances.get_distances(text)))"
   ]
  },
  {
   "cell_type": "code",
   "execution_count": 87,
   "metadata": {},
   "outputs": [
    {
     "name": "stdout",
     "output_type": "stream",
     "text": [
      "[('month', 9.0, 270.0)]\n"
     ]
    }
   ],
   "source": [
    "import lexnlp.extract.en.durations\n",
    "print(list(lexnlp.extract.en.durations.get_durations(\"This Agreement shall terminate in nine (9) months\")))\n"
   ]
  },
  {
   "cell_type": "code",
   "execution_count": 95,
   "metadata": {},
   "outputs": [
    {
     "name": "stdout",
     "output_type": "stream",
     "text": [
      "[]\n"
     ]
    }
   ],
   "source": [
    "print(list(lexnlp.extract.en.durations.get_durations(\"period shall not exceed couple of Minutes?\",float_digits=4)))"
   ]
  },
  {
   "cell_type": "code",
   "execution_count": 103,
   "metadata": {},
   "outputs": [
    {
     "name": "stdout",
     "output_type": "stream",
     "text": [
      "[(5000000000.0, 'USD')]\n"
     ]
    }
   ],
   "source": [
    "import lexnlp.extract.en.money\n",
    "text = \"The price will be 5 Billion Dollar.\"\n",
    "print(list(lexnlp.extract.en.money.get_money(text)))\n"
   ]
  },
  {
   "cell_type": "code",
   "execution_count": 108,
   "metadata": {},
   "outputs": [
    {
     "name": "stdout",
     "output_type": "stream",
     "text": [
      "[]\n"
     ]
    }
   ],
   "source": [
    "text = \"The price will be 5 Billion Indian Rupee.\"\n",
    "print(list(lexnlp.extract.en.money.get_money(text)))"
   ]
  },
  {
   "cell_type": "code",
   "execution_count": 109,
   "metadata": {},
   "outputs": [],
   "source": [
    "import lexnlp.extract.en.percents"
   ]
  },
  {
   "cell_type": "code",
   "execution_count": 110,
   "metadata": {},
   "outputs": [
    {
     "name": "stdout",
     "output_type": "stream",
     "text": [
      "[('%', 50.0, 0.5)]\n"
     ]
    }
   ],
   "source": [
    "print(list(lexnlp.extract.en.percents.get_percents(\"discount of 50%\")))"
   ]
  },
  {
   "cell_type": "code",
   "execution_count": 122,
   "metadata": {},
   "outputs": [
    {
     "name": "stdout",
     "output_type": "stream",
     "text": [
      "[('ssn', '999-92-4457')]\n"
     ]
    }
   ],
   "source": [
    "import lexnlp.extract.en.pii\n",
    "text=\"Shaitender Singh (999-92-4457)\"\n",
    "print(list(lexnlp.extract.en.pii.get_pii(text)))"
   ]
  },
  {
   "cell_type": "code",
   "execution_count": 121,
   "metadata": {},
   "outputs": [
    {
     "name": "stdout",
     "output_type": "stream",
     "text": [
      "[('us_phone', '(212) 123-4567')]\n"
     ]
    }
   ],
   "source": [
    "text = \"Mary Doe (212-123-4567)\"\n",
    "print(list(lexnlp.extract.en.pii.get_pii(text)))"
   ]
  },
  {
   "cell_type": "code",
   "execution_count": 123,
   "metadata": {},
   "outputs": [],
   "source": [
    "import lexnlp.extract.en.ratios"
   ]
  },
  {
   "cell_type": "code",
   "execution_count": 130,
   "metadata": {},
   "outputs": [
    {
     "name": "stdout",
     "output_type": "stream",
     "text": [
      "[(10, 0.5, 20.0)]\n"
     ]
    }
   ],
   "source": [
    "print(list(lexnlp.extract.en.ratios.get_ratios(\"At a leverage ratio of no more than ten to 0.5.\")))"
   ]
  },
  {
   "cell_type": "code",
   "execution_count": 135,
   "metadata": {},
   "outputs": [],
   "source": [
    "#lexnlp.extract.en.url: Extracting URLs\n",
    "import lexnlp.extract.en.urls"
   ]
  },
  {
   "cell_type": "code",
   "execution_count": 136,
   "metadata": {},
   "outputs": [
    {
     "name": "stdout",
     "output_type": "stream",
     "text": [
      "['https://www.google.com//terms']\n"
     ]
    }
   ],
   "source": [
    "text = \"A copy of the terms can be found at https://www.google.com//terms\"\n",
    "print(list(lexnlp.extract.en.urls.get_urls(text)))"
   ]
  },
  {
   "cell_type": "code",
   "execution_count": null,
   "metadata": {},
   "outputs": [],
   "source": []
  }
 ],
 "metadata": {
  "kernelspec": {
   "display_name": "Python 3",
   "language": "python",
   "name": "python3"
  },
  "language_info": {
   "codemirror_mode": {
    "name": "ipython",
    "version": 3
   },
   "file_extension": ".py",
   "mimetype": "text/x-python",
   "name": "python",
   "nbconvert_exporter": "python",
   "pygments_lexer": "ipython3",
   "version": "3.6.5"
  }
 },
 "nbformat": 4,
 "nbformat_minor": 2
}
