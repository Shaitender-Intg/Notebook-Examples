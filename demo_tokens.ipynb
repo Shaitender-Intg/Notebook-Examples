{
 "cells": [
  {
   "cell_type": "code",
   "execution_count": 1,
   "metadata": {
    "collapsed": true
   },
   "outputs": [],
   "source": [
    "# Imports\n",
    "import pandas\n",
    "import spacy\n",
    "import nltk\n",
    "import requests"
   ]
  },
  {
   "cell_type": "code",
   "execution_count": 2,
   "metadata": {
    "collapsed": true
   },
   "outputs": [],
   "source": [
    "# Load library\n",
    "from segmenters import *\n",
    "from tokens import *"
   ]
  },
  {
   "cell_type": "code",
   "execution_count": 3,
   "metadata": {
    "collapsed": true
   },
   "outputs": [],
   "source": [
    "text = requests.get(\"https://raw.githubusercontent.com/LexPredict/lexpredict-contraxsuite-samples/master/agreements/employment/1032975_2008-12-09_EMPLOYMENT%20AGREEMENT%20DATED%20DECEMBER%203%2C%202008.txt\").text"
   ]
  },
  {
   "cell_type": "code",
   "execution_count": 31,
   "metadata": {
    "collapsed": true
   },
   "outputs": [],
   "source": [
    "EXAMPLE_TEXT_1 = \"\"\"Dear Jerry:\n",
    "This amended and restated letter agreement sets forth the terms of your employment with Logitech Inc., a California \n",
    "corporation (the “Company”), as well as our understanding with respect to any termination of that employment \n",
    "relationship. Effective on the date set forth above, this letter agreement supersedes your offer letter dated January\n",
    "28, 2008, in its entirety.\n",
    "1. Position and Duties. You will be employed by the Company as President and Chief Executive Officer and will serve in\n",
    "the positions set forth on Exhibit A. In such positions, you will have the duties and authority at a level consistent \n",
    "with the duties and authority set forth on Exhibit A. You accept employment with the Company on the terms and conditions\n",
    "set forth in this Agreement, and you agree to devote your full business time, energy and skill to your duties.\n",
    "2. Term of Employment. Your employment with the Company will continue for no specified term and may be terminated by\n",
    "you or the Company at any time, with or without cause, subject to the provisions of Paragraphs 4, 5 and 6 below.\"\"\""
   ]
  },
  {
   "cell_type": "code",
   "execution_count": 32,
   "metadata": {},
   "outputs": [
    {
     "name": "stdout",
     "output_type": "stream",
     "text": [
      "['Dear', 'Jerry', ':', 'This', 'amended', 'and', 'restated', 'letter', 'agreement', 'sets', 'forth', 'the', 'terms', 'of', 'your', 'employment', 'with', 'Logitech', 'Inc.', ',', 'a', 'California', 'corporation', '(', 'the', '“', 'Company', '”', ')', ',', 'as', 'well', 'as', 'our', 'understanding', 'with', 'respect', 'to', 'any', 'termination', 'of', 'that', 'employment', 'relationship', '.']\n",
      "['Effective', 'on', 'the', 'date', 'set', 'forth', 'above', ',', 'this', 'letter', 'agreement', 'supersedes', 'your', 'offer', 'letter', 'dated', 'January', '28', ',', '2008', ',', 'in', 'its', 'entirety', '.']\n",
      "['1', '.']\n",
      "['Position', 'and', 'Duties', '.']\n",
      "['You', 'will', 'be', 'employed', 'by', 'the', 'Company', 'as', 'President', 'and', 'Chief', 'Executive', 'Officer', 'and', 'will', 'serve', 'in', 'the', 'positions', 'set', 'forth', 'on', 'Exhibit', 'A', '.']\n",
      "['In', 'such', 'positions', ',', 'you', 'will', 'have', 'the', 'duties', 'and', 'authority', 'at', 'a', 'level', 'consistent', 'with', 'the', 'duties', 'and', 'authority', 'set', 'forth', 'on', 'Exhibit', 'A', '.']\n",
      "['You', 'accept', 'employment', 'with', 'the', 'Company', 'on', 'the', 'terms', 'and', 'conditions', 'set', 'forth', 'in', 'this', 'Agreement', ',', 'and', 'you', 'agree', 'to', 'devote', 'your', 'full', 'business', 'time', ',', 'energy', 'and', 'skill', 'to', 'your', 'duties', '.']\n",
      "['2', '.']\n",
      "['Term', 'of', 'Employment', '.']\n",
      "['Your', 'employment', 'with', 'the', 'Company', 'will', 'continue', 'for', 'no', 'specified', 'term', 'and', 'may', 'be', 'terminated', 'by', 'you', 'or', 'the', 'Company', 'at', 'any', 'time', ',', 'with', 'or', 'without', 'cause', ',', 'subject', 'to', 'the', 'provisions', 'of', 'Paragraphs', '4', ',', '5', 'and', '6', 'below', '.']\n"
     ]
    }
   ],
   "source": [
    "for sentence in get_sentences(EXAMPLE_TEXT_1):\n",
    "    # Output\n",
    "    print(get_tokens(sentence, lowercase=False))"
   ]
  },
  {
   "cell_type": "code",
   "execution_count": 33,
   "metadata": {},
   "outputs": [
    {
     "name": "stdout",
     "output_type": "stream",
     "text": [
      "['dear', 'jerry', ':', 'this', 'amended', 'and', 'restated', 'letter', 'agreement', 'sets', 'forth', 'the', 'terms', 'of', 'your', 'employment', 'with', 'logitech', 'inc.', ',', 'a', 'california', 'corporation', '(', 'the', '“', 'company', '”', ')', ',', 'as', 'well', 'as', 'our', 'understanding', 'with', 'respect', 'to', 'any', 'termination', 'of', 'that', 'employment', 'relationship', '.']\n",
      "['effective', 'on', 'the', 'date', 'set', 'forth', 'above', ',', 'this', 'letter', 'agreement', 'supersedes', 'your', 'offer', 'letter', 'dated', 'january', '28', ',', '2008', ',', 'in', 'its', 'entirety', '.']\n",
      "['1', '.']\n",
      "['position', 'and', 'duties', '.']\n",
      "['you', 'will', 'be', 'employed', 'by', 'the', 'company', 'as', 'president', 'and', 'chief', 'executive', 'officer', 'and', 'will', 'serve', 'in', 'the', 'positions', 'set', 'forth', 'on', 'exhibit', 'a', '.']\n",
      "['in', 'such', 'positions', ',', 'you', 'will', 'have', 'the', 'duties', 'and', 'authority', 'at', 'a', 'level', 'consistent', 'with', 'the', 'duties', 'and', 'authority', 'set', 'forth', 'on', 'exhibit', 'a', '.']\n",
      "['you', 'accept', 'employment', 'with', 'the', 'company', 'on', 'the', 'terms', 'and', 'conditions', 'set', 'forth', 'in', 'this', 'agreement', ',', 'and', 'you', 'agree', 'to', 'devote', 'your', 'full', 'business', 'time', ',', 'energy', 'and', 'skill', 'to', 'your', 'duties', '.']\n",
      "['2', '.']\n",
      "['term', 'of', 'employment', '.']\n",
      "['your', 'employment', 'with', 'the', 'company', 'will', 'continue', 'for', 'no', 'specified', 'term', 'and', 'may', 'be', 'terminated', 'by', 'you', 'or', 'the', 'company', 'at', 'any', 'time', ',', 'with', 'or', 'without', 'cause', ',', 'subject', 'to', 'the', 'provisions', 'of', 'paragraphs', '4', ',', '5', 'and', '6', 'below', '.']\n"
     ]
    }
   ],
   "source": [
    "for sentence in get_sentences(EXAMPLE_TEXT_1):\n",
    "    # Output\n",
    "    print(get_tokens(sentence, lowercase=True))"
   ]
  },
  {
   "cell_type": "code",
   "execution_count": 34,
   "metadata": {},
   "outputs": [
    {
     "name": "stdout",
     "output_type": "stream",
     "text": [
      "['dear', 'jerry', ':', 'amended', 'restated', 'letter', 'agreement', 'sets', 'terms', 'employment', 'logitech', 'inc.', ',', 'california', 'corporation', '(', '“', 'company', '”', ')', ',', 'well', 'understanding', 'respect', 'termination', 'employment', 'relationship', '.']\n",
      "['effective', 'date', 'set', ',', 'letter', 'agreement', 'supersedes', 'offer', 'letter', 'dated', 'january', '28', ',', '2008', ',', 'entirety', '.']\n",
      "['1', '.']\n",
      "['position', 'duties', '.']\n",
      "['employed', 'company', 'president', 'chief', 'executive', 'officer', 'serve', 'positions', 'set', 'exhibit', '.']\n",
      "['positions', ',', 'duties', 'authority', 'level', 'consistent', 'duties', 'authority', 'set', 'exhibit', '.']\n",
      "['accept', 'employment', 'company', 'terms', 'conditions', 'set', 'agreement', ',', 'agree', 'devote', 'full', 'business', 'time', ',', 'energy', 'skill', 'duties', '.']\n",
      "['2', '.']\n",
      "['term', 'employment', '.']\n",
      "['employment', 'company', 'continue', 'specified', 'term', 'terminated', 'company', 'time', ',', 'cause', ',', 'subject', 'provisions', 'paragraphs', '4', ',', '5', '6', '.']\n"
     ]
    }
   ],
   "source": [
    "for sentence in get_sentences(EXAMPLE_TEXT_1):\n",
    "    # Output\n",
    "    print(get_tokens(sentence, lowercase=True, stopword=True))"
   ]
  },
  {
   "cell_type": "code",
   "execution_count": 39,
   "metadata": {
    "scrolled": true
   },
   "outputs": [
    {
     "name": "stdout",
     "output_type": "stream",
     "text": [
      "['approv', 'endors', 'associ', 'general', 'contractor', 'america', '.']\n"
     ]
    }
   ],
   "source": [
    "EXAMPLE_TEXT_2 = \"\"\"It has been  approved  and endorsed by The  Associated  General  Contractors  of America.\"\"\"\n",
    "print(get_stems(EXAMPLE_TEXT_2, stopword=True))"
   ]
  },
  {
   "cell_type": "code",
   "execution_count": null,
   "metadata": {
    "collapsed": true
   },
   "outputs": [],
   "source": [
    "# print(get_verbs(EXAMPLE_TEXT_2, lemmatize=True))"
   ]
  },
  {
   "cell_type": "code",
   "execution_count": 47,
   "metadata": {},
   "outputs": [
    {
     "name": "stdout",
     "output_type": "stream",
     "text": [
      "['approve', 'endorse', 'associated', 'general', 'contractors', 'america', '.']\n"
     ]
    }
   ],
   "source": [
    "print(get_lemmas(EXAMPLE_TEXT_2, lowercase=True, stopword=True))"
   ]
  },
  {
   "cell_type": "code",
   "execution_count": 56,
   "metadata": {},
   "outputs": [
    {
     "name": "stdout",
     "output_type": "stream",
     "text": [
      "['Associated', 'General', 'Contractors', 'America']\n"
     ]
    }
   ],
   "source": [
    "print(get_nouns(EXAMPLE_TEXT_2, lemmatize=True))"
   ]
  },
  {
   "cell_type": "code",
   "execution_count": 58,
   "metadata": {},
   "outputs": [
    {
     "name": "stdout",
     "output_type": "stream",
     "text": [
      "['applicable', 'effective', 'navigable', 'other', 'own', 'such', 'local', 'necessary', 'local', 'such']\n"
     ]
    }
   ],
   "source": [
    "print(get_adjectives(EXAMPLE_TEXT_3, lemmatize=True))"
   ]
  },
  {
   "cell_type": "code",
   "execution_count": 57,
   "metadata": {},
   "outputs": [
    {
     "name": "stdout",
     "output_type": "stream",
     "text": [
      "['promptly']\n"
     ]
    }
   ],
   "source": [
    "print(get_adverbs(\"shall promptly provide notice\", lemmatize=True))"
   ]
  },
  {
   "cell_type": "code",
   "execution_count": 41,
   "metadata": {},
   "outputs": [
    {
     "name": "stdout",
     "output_type": "stream",
     "text": [
      "['builder', 'shall', 'compli', 'with', 'law', ',', 'rule', ',', 'regul', 'and', 'requir', 'of', 'ani', 'regulatori', 'author', 'that', 'are', 'applic', 'and', 'exist', 'at', 'the', 'time', 'of', 'the', 'execut', 'of', 'this', 'agreement', 'that', 'are', 'in', 'effect', 'or', 'which', 'shall', 'becom', 'effect', 'as', 'to', 'ani', 'vessel', 'built', 'dure', 'the', 'project', 'schedul', 'and', 'which', 'affect', 'the', 'construct', 'of', 'work', ',', 'plant', 'and', 'vessel', ',', 'in', 'or', 'on', 'navig', 'water', 'and', 'the', 'shore', 'thereof', ',', 'and', 'all', 'other', 'water', 'subject', 'to', 'the', 'control', 'of', 'the', 'unit', 'state', 'as', 'set', 'forth', 'in', 'the', 'contract', 'document', 'and', 'shall', 'procur', 'at', 'it', 'own', 'expens', 'such', 'permit', 'from', 'the', 'unit', 'state', 'and', 'from', 'state', 'and', 'local', 'author', 'in', 'the', 'jurisdict', 'in', 'which', 'builder', 'is', 'construct', 'the', 'vessel', 'as', 'may', 'be', 'necessari', 'in', 'connect', 'with', 'begin', 'or', 'carri', 'on', 'the', 'complet', 'of', 'the', 'work', ',', 'and', 'shall', 'at', 'time', 'compli', 'with', 'all', 'unit', 'state', ',', 'state', 'and', 'local', 'law', 'in', 'the', 'jurisdict', 'in', 'which', 'builder', 'is', 'construct', 'the', 'vessel', 'in', 'ani', 'way', 'affect', 'the', 'work', 'and', 'affect', 'ani', 'document', 'of', 'such', 'work', 'with', 'the', 'u.s.', 'coast', 'guard', '.']\n"
     ]
    }
   ],
   "source": [
    "EXAMPLE_TEXT_3 = \"\"\"Builder shall comply with laws, rules, regulations and requirements of any Regulatory Authorities that are applicable and existing at the time of the execution of this Agreement that are in effect or which shall\n",
    "become effective as to any vessels built during the Project Schedule and which affect the construction of works, plants and vessels, in or on navigable waters and the shores thereof, and all other waters subject to the control of the United States\n",
    "as set forth in the Contract Documents and shall procure at its own expense such permits from the United States and from state and local authorities in the jurisdiction in which Builder is constructing the Vessels as may be necessary in connection\n",
    "with beginning or carrying on the completion of the Work, and shall at times comply with all United States, state and local laws in the jurisdiction in which Builder is constructing the Vessels in any way affecting the Work and affecting any\n",
    "documentation of such work with the U.S. Coast Guard.\"\"\"\n",
    "print(get_stems(EXAMPLE_TEXT_3))"
   ]
  },
  {
   "cell_type": "code",
   "execution_count": 43,
   "metadata": {},
   "outputs": [
    {
     "name": "stdout",
     "output_type": "stream",
     "text": [
      "['builder', 'compli', 'law', ',', 'rule', ',', 'regul', 'requir', 'regulatori', 'author', 'applic', 'exist', 'time', 'execut', 'agreement', 'effect', 'becom', 'effect', 'vessel', 'built', 'project', 'schedul', 'affect', 'construct', 'work', ',', 'plant', 'vessel', ',', 'navig', 'water', 'shore', ',', 'water', 'subject', 'control', 'unit', 'state', 'set', 'contract', 'document', 'procur', 'expens', 'permit', 'unit', 'state', 'state', 'local', 'author', 'jurisdict', 'builder', 'construct', 'vessel', 'necessari', 'connect', 'begin', 'carri', 'complet', 'work', ',', 'time', 'compli', 'unit', 'state', ',', 'state', 'local', 'law', 'jurisdict', 'builder', 'construct', 'vessel', 'way', 'affect', 'work', 'affect', 'document', 'work', 'u.s.', 'coast', 'guard', '.']\n"
     ]
    }
   ],
   "source": [
    "print(get_stems(EXAMPLE_TEXT_3, stopword=True))"
   ]
  },
  {
   "cell_type": "code",
   "execution_count": 7,
   "metadata": {},
   "outputs": [
    {
     "name": "stdout",
     "output_type": "stream",
     "text": [
      "['employment', 'agreement', 'date', 'december', '3', ',', '2008', 'exhibit', '10.1', 'december', '3', ',', '2008', 'mr', '.']\n",
      "================================\n",
      "['gerald', 'p.', 'quindlen', 're', ':', 'employment', 'agreement', 'dear', 'jerry', ':', 'this', 'amend', 'and', 'restate', 'letter', 'agreement', 'set', 'forth', 'the', 'term', 'of', 'your', 'employment', 'with', 'logitech', 'inc.', ',', 'a', 'california', 'corporation', '(', 'the', '“', 'company', '”', ')', ',', 'as', 'well', 'a', 'our', 'understand', 'with', 'respect', 'to', 'any', 'termination', 'of', 'that', 'employment', 'relationship', '.']\n",
      "================================\n",
      "['effective', 'on', 'the', 'date', 'set', 'forth', 'above', ',', 'this', 'letter', 'agreement', 'supersede', 'your', 'offer', 'letter', 'date', 'january', '28', ',', '2008', ',', 'in', 'it', 'entirety', '.']\n",
      "================================\n",
      "['1', '.']\n",
      "================================\n",
      "['position', 'and', 'duties', '.']\n",
      "================================\n",
      "['you', 'will', 'be', 'employ', 'by', 'the', 'company', 'a', 'president', 'and', 'chief', 'executive', 'officer', 'and', 'will', 'serve', 'in', 'the', 'position', 'set', 'forth', 'on', 'exhibit', 'a', '.']\n",
      "================================\n",
      "['in', 'such', 'position', ',', 'you', 'will', 'have', 'the', 'duty', 'and', 'authority', 'at', 'a', 'level', 'consistent', 'with', 'the', 'duty', 'and', 'authority', 'set', 'forth', 'on', 'exhibit', 'a', '.']\n",
      "================================\n",
      "['you', 'accept', 'employment', 'with', 'the', 'company', 'on', 'the', 'term', 'and', 'condition', 'set', 'forth', 'in', 'this', 'agreement', ',', 'and', 'you', 'agree', 'to', 'devote', 'your', 'full', 'business', 'time', ',', 'energy', 'and', 'skill', 'to', 'your', 'duty', '.']\n",
      "================================\n",
      "['2', '.']\n",
      "================================\n",
      "['term', 'of', 'employment', '.']\n",
      "================================\n"
     ]
    }
   ],
   "source": [
    "N = 10\n",
    "i = 0\n",
    "for sentence in get_sentences(text):\n",
    "    # Only show first N\n",
    "    i += 1\n",
    "    if i > N:\n",
    "        break\n",
    "        \n",
    "    # Output\n",
    "    print(get_lemmas(sentence, lowercase=True))\n",
    "    print(\"=\"*32)"
   ]
  },
  {
   "cell_type": "code",
   "execution_count": 8,
   "metadata": {},
   "outputs": [
    {
     "name": "stdout",
     "output_type": "stream",
     "text": [
      "['employment', 'agreement', 'date', 'december', '3', ',', '2008', 'exhibit', '10.1', 'december', '3', ',', '2008', 'mr', '.']\n",
      "================================\n",
      "['gerald', 'p.', 'quindlen', ':', 'employment', 'agreement', 'dear', 'jerry', ':', 'amend', 'restate', 'letter', 'agreement', 'set', 'term', 'employment', 'logitech', 'inc.', ',', 'california', 'corporation', '(', '“', 'company', '”', ')', ',', 'well', 'understand', 'respect', 'termination', 'employment', 'relationship', '.']\n",
      "================================\n",
      "['effective', 'date', 'set', ',', 'letter', 'agreement', 'supersede', 'offer', 'letter', 'date', 'january', '28', ',', '2008', ',', 'entirety', '.']\n",
      "================================\n",
      "['1', '.']\n",
      "================================\n",
      "['position', 'duties', '.']\n",
      "================================\n",
      "['employ', 'company', 'president', 'chief', 'executive', 'officer', 'serve', 'position', 'set', 'exhibit', '.']\n",
      "================================\n",
      "['position', ',', 'duty', 'authority', 'level', 'consistent', 'duty', 'authority', 'set', 'exhibit', '.']\n",
      "================================\n",
      "['accept', 'employment', 'company', 'term', 'condition', 'set', 'agreement', ',', 'agree', 'devote', 'full', 'business', 'time', ',', 'energy', 'skill', 'duty', '.']\n",
      "================================\n",
      "['2', '.']\n",
      "================================\n",
      "['term', 'employment', '.']\n",
      "================================\n"
     ]
    }
   ],
   "source": [
    "N = 10\n",
    "i = 0\n",
    "for sentence in get_sentences(text):\n",
    "    # Only show first N\n",
    "    i += 1\n",
    "    if i > N:\n",
    "        break\n",
    "        \n",
    "    # Output\n",
    "    print(get_lemmas(sentence, lowercase=True, stopword=True))\n",
    "    print(\"=\"*32)"
   ]
  },
  {
   "cell_type": "code",
   "execution_count": 23,
   "metadata": {},
   "outputs": [
    {
     "data": {
      "text/plain": [
       "['pet', 'punch']"
      ]
     },
     "execution_count": 23,
     "metadata": {},
     "output_type": "execute_result"
    }
   ],
   "source": [
    "get_verbs(\"He pets the blackest cats and I quickly punch things.\", lemmatize=True)"
   ]
  },
  {
   "cell_type": "code",
   "execution_count": 24,
   "metadata": {},
   "outputs": [
    {
     "data": {
      "text/plain": [
       "['cat', 'thing']"
      ]
     },
     "execution_count": 24,
     "metadata": {},
     "output_type": "execute_result"
    }
   ],
   "source": [
    "get_nouns(\"He pets the blackest cats and I quickly punch things.\", lemmatize=True)"
   ]
  },
  {
   "cell_type": "code",
   "execution_count": 22,
   "metadata": {},
   "outputs": [
    {
     "data": {
      "text/plain": [
       "['black']"
      ]
     },
     "execution_count": 22,
     "metadata": {},
     "output_type": "execute_result"
    }
   ],
   "source": [
    "get_adjectives(\"He pets the blackest cats and I quickly punch things.\", lemmatize=True)"
   ]
  },
  {
   "cell_type": "code",
   "execution_count": 25,
   "metadata": {},
   "outputs": [
    {
     "data": {
      "text/plain": [
       "['quickly']"
      ]
     },
     "execution_count": 25,
     "metadata": {},
     "output_type": "execute_result"
    }
   ],
   "source": [
    "get_adverbs(\"He pets the blackest cats and I quickly punch things.\", lemmatize=True)"
   ]
  }
 ],
 "metadata": {
  "kernelspec": {
   "display_name": "Python 3",
   "language": "python",
   "name": "python3"
  },
  "language_info": {
   "codemirror_mode": {
    "name": "ipython",
    "version": 3
   },
   "file_extension": ".py",
   "mimetype": "text/x-python",
   "name": "python",
   "nbconvert_exporter": "python",
   "pygments_lexer": "ipython3",
   "version": "3.5.2"
  }
 },
 "nbformat": 4,
 "nbformat_minor": 2
}
