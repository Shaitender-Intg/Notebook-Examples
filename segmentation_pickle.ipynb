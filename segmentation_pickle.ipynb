{
 "cells": [
  {
   "cell_type": "code",
   "execution_count": 1,
   "metadata": {},
   "outputs": [],
   "source": [
    "# Imports\n",
    "import glob\n",
    "import os\n",
    "import string\n",
    "import unicodedata\n",
    "\n",
    "# Sklearn imports\n",
    "import pandas\n",
    "import sklearn\n",
    "import sklearn.linear_model\n",
    "import sklearn.svm\n",
    "import sklearn.ensemble"
   ]
  },
  {
   "cell_type": "code",
   "execution_count": null,
   "metadata": {},
   "outputs": [],
   "source": [
    "len(section_break_positions['/data/workspace/lexpredict-contraxsuite-samples/agreements/software_license/1582586_2015-08-31_SOFTWARE LICENSE AND ROYALTY AGREEMENT.txt'])"
   ]
  },
  {
   "cell_type": "code",
   "execution_count": 2,
   "metadata": {},
   "outputs": [],
   "source": [
    "def build_document_distribution(text, characters=string.printable, norm=True):\n",
    "    \"\"\"\n",
    "    Build document distribution based on fixed character and optionally norm to unit.\n",
    "    \"\"\"\n",
    "    # Build character vector\n",
    "    v = {}\n",
    "    for c in characters:\n",
    "        v[\"doc_char_{0}\".format(c)] = text.count(c)\n",
    "        v[\"doc_startchar_{0}\".format(c)] = 0\n",
    "    v[\"doc_startchar_other\"] = 0\n",
    "\n",
    "    # Build line start vector\n",
    "    for line in text.splitlines():\n",
    "        if len(line.strip()) > 0:\n",
    "            c = line.strip()[0]\n",
    "\n",
    "            if c in characters:\n",
    "                v[\"doc_startchar_{0}\".format(c)] += 1\n",
    "            else:\n",
    "                v[\"doc_startchar_other\"] += 1\n",
    "        else:\n",
    "            continue\n",
    "            \n",
    "    # Norm if requested\n",
    "    if norm:\n",
    "        total_char = float(sum([b for a,b in v.items() if a.startswith(\"doc_char\")]))\n",
    "        total_startchar = float(sum([b for a,b in v.items() if a.startswith(\"doc_startchar\")]))\n",
    "\n",
    "        for k in v.keys():\n",
    "            if k.startswith(\"doc_char\"):\n",
    "                v[k] = v[k] / total_char\n",
    "            elif k.startswith(\"doc_startchar\"):\n",
    "                v[k] = v[k] / total_startchar\n",
    "\n",
    "    return  v"
   ]
  },
  {
   "cell_type": "code",
   "execution_count": null,
   "metadata": {},
   "outputs": [],
   "source": [
    "# Model parameters\n",
    "line_window_pre = 3\n",
    "line_window_post = 3\n",
    "\n",
    "# Setup feature and target data\n",
    "feature_data = []\n",
    "target_data = []\n",
    "\n",
    "# Iterate through files and test\n",
    "for file_name in sorted(list(section_break_positions.keys())):\n",
    "    # Read and get doc distribution\n",
    "    file_buffer = open(file_name, \"rb\").read().decode(\"utf-8\")\n",
    "    doc_distribution=build_document_distribution(file_buffer)\n",
    "    \n",
    "    # Split to lines and iterate\n",
    "    file_lines = file_buffer.splitlines()\n",
    "    for line_id in range(len(file_lines)):\n",
    "        feature_data.append(build_section_break_features(file_lines, line_id, line_window_pre, line_window_post, include_doc=doc_distribution))\n",
    "        target_data.append(1 if (line_id) in section_break_positions[file_name] else 0)\n",
    "        if target_data[-1] == 1:\n",
    "            #print((file_name, line_id, target_data[-1]))\n",
    "            #print(file_lines[line_id])\n",
    "            pass\n",
    "\n",
    "# Convert to DF\n",
    "feature_df = pandas.DataFrame(feature_data).fillna(-1)"
   ]
  }
 ],
 "metadata": {
  "kernelspec": {
   "display_name": "Python 3",
   "language": "python",
   "name": "python3"
  },
  "language_info": {
   "codemirror_mode": {
    "name": "ipython",
    "version": 3
   },
   "file_extension": ".py",
   "mimetype": "text/x-python",
   "name": "python",
   "nbconvert_exporter": "python",
   "pygments_lexer": "ipython3",
   "version": "3.6.5"
  }
 },
 "nbformat": 4,
 "nbformat_minor": 2
}
